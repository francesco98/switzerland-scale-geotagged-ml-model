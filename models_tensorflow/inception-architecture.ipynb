{
 "cells": [
  {
   "cell_type": "code",
   "execution_count": null,
   "id": "00fb4086",
   "metadata": {},
   "outputs": [],
   "source": [
    "import numpy as np\n",
    "import pandas as pd\n",
    "import tensorflow as tf\n",
    "import shutil\n",
    "import os\n",
    "\n",
    "from tensorflow.keras.utils import image_dataset_from_directory\n",
    "from keras.applications.mobilenet_v3 import preprocess_input\n",
    "from keras.applications.mobilenet_v3 import MobileNetV3Large\n",
    "from tensorflow.keras.preprocessing import image\n",
    "\n",
    "from tensorflow.keras.layers import Input\n",
    "from tensorflow.keras.optimizers import Adagrad\n",
    "\n",
    "import matplotlib.pyplot as plt"
   ]
  },
  {
   "cell_type": "markdown",
   "id": "27dc5419",
   "metadata": {},
   "source": [
    "### Step 0: Creating the correct directory structure\n",
    "\n",
    "In this step we need to create as many subfolders as the number of classes, and copy images from ./dataset/no_label folder to ./dataset/images/{class} for each class. \n",
    "For instance, for 2 classes we should have:\n",
    "\n",
    "- ./dataset/images/**0**/img{i}.jpg (for each i belonging to class 0)\n",
    "- ./dataset/images/**1**/img{i}.jpg (for each i belonging to class 1)"
   ]
  },
  {
   "cell_type": "code",
   "execution_count": null,
   "id": "c2f97f95",
   "metadata": {},
   "outputs": [],
   "source": [
    "def create_directories():\n",
    "    # Loading the dataframe containing a map between the imageId and the corresponding label\n",
    "    data = pd.read_csv('./dataset/geotags_185K_label.csv').values.tolist()\n",
    "    \n",
    "    # Creating the correct directory structure\n",
    "    for im in data:\n",
    "        olddir = f'./dataset/no_label/{im[0]}.jpg'\n",
    "        newdir = f'./dataset/images/{im[1]}/{im[0]}.jpg'\n",
    "        \n",
    "        # Creating directory if it does not exist\n",
    "        os.makedirs(os.path.dirname(newdir), exist_ok=True)\n",
    "        # Copying the image\n",
    "        shutil.copyfile(olddir, newdir)"
   ]
  },
  {
   "cell_type": "markdown",
   "id": "9e2e5815",
   "metadata": {},
   "source": [
    "### Step 1: Loading all images with labels"
   ]
  },
  {
   "cell_type": "markdown",
   "id": "48989d31",
   "metadata": {},
   "source": [
    "In this step we need to load images specifying the size, the number of batches and the preprocess steps."
   ]
  },
  {
   "cell_type": "code",
   "execution_count": null,
   "id": "ea6e96a6",
   "metadata": {},
   "outputs": [],
   "source": [
    "BATCH_SIZE = 32\n",
    "IMG_SIZE = (224, 224)"
   ]
  },
  {
   "cell_type": "markdown",
   "id": "daf12922",
   "metadata": {},
   "source": [
    "We are using `MobileNetV3Large` model which already contains a preprocess layer, and thus the `preprocess_input` is just a pass-through function. \n",
    "For completeness, and in case we need to change the model we use it, although it can be skipped."
   ]
  },
  {
   "cell_type": "code",
   "execution_count": null,
   "id": "b4074043",
   "metadata": {},
   "outputs": [],
   "source": [
    "def preprocess(images, labels):\n",
    "    return preprocess_input(images), labels"
   ]
  },
  {
   "cell_type": "markdown",
   "id": "7c8319eb",
   "metadata": {},
   "source": [
    "Loading the dataset, and assigning label depending on the directory structure. Also we split the dataset in train and validation, using 20% of images for the validation. "
   ]
  },
  {
   "cell_type": "code",
   "execution_count": null,
   "id": "0522d1f6",
   "metadata": {},
   "outputs": [],
   "source": [
    "train_dataset, validation_dataset = image_dataset_from_directory(\n",
    "    './dataset/images',\n",
    "    label_mode='categorical',\n",
    "    batch_size=BATCH_SIZE,\n",
    "    image_size=IMG_SIZE,\n",
    "    # interpolation='nearest',\n",
    "    seed=123,\n",
    "    validation_split=0.2,\n",
    "    subset='both')"
   ]
  },
  {
   "cell_type": "code",
   "execution_count": null,
   "id": "26466c90",
   "metadata": {},
   "outputs": [],
   "source": [
    "class_names = train_dataset.class_names\n",
    "\n",
    "# Number of classes\n",
    "NUM_CLASSES = len(class_names)"
   ]
  },
  {
   "cell_type": "markdown",
   "id": "eb58105c",
   "metadata": {},
   "source": [
    "Plotting 9 images to have a clue of what the dataset contains"
   ]
  },
  {
   "cell_type": "code",
   "execution_count": null,
   "id": "30f02e24",
   "metadata": {},
   "outputs": [],
   "source": [
    "plt.figure(figsize=(10, 10))\n",
    "for images, labels in train_dataset.take(1):\n",
    "    for i in range(9):\n",
    "        ax = plt.subplot(3, 3, i + 1)\n",
    "        plt.imshow(images[i].numpy().astype(\"uint8\"))\n",
    "        plt.title(np.argmax(labels[i]))\n",
    "        plt.axis(\"off\")"
   ]
  },
  {
   "cell_type": "markdown",
   "id": "0d7a5139",
   "metadata": {},
   "source": [
    "We do not have a test dataset, so we need to create one. To do so, we determine how many batches of data are available in the validation set, then move 20% of them to a test set."
   ]
  },
  {
   "cell_type": "code",
   "execution_count": null,
   "id": "af415691",
   "metadata": {},
   "outputs": [],
   "source": [
    "val_batches = tf.data.experimental.cardinality(validation_dataset)\n",
    "\n",
    "test_dataset = validation_dataset.take(val_batches // 5)\n",
    "validation_dataset = validation_dataset.skip(val_batches // 5)"
   ]
  },
  {
   "cell_type": "code",
   "execution_count": null,
   "id": "a91e5892",
   "metadata": {},
   "outputs": [],
   "source": [
    "print('Number of validation batches: %d' % tf.data.experimental.cardinality(validation_dataset))\n",
    "print('Number of test batches: %d' % tf.data.experimental.cardinality(test_dataset))"
   ]
  },
  {
   "cell_type": "markdown",
   "id": "96c8beb9",
   "metadata": {},
   "source": [
    "Also, we use buffered prefetching to load images from disk without having I/O become blocking."
   ]
  },
  {
   "cell_type": "code",
   "execution_count": null,
   "id": "5ea46614",
   "metadata": {},
   "outputs": [],
   "source": [
    "AUTOTUNE = tf.data.AUTOTUNE\n",
    "\n",
    "train_dataset = train_dataset.prefetch(buffer_size=AUTOTUNE)\n",
    "validation_dataset = validation_dataset.prefetch(buffer_size=AUTOTUNE)\n",
    "test_dataset = test_dataset.prefetch(buffer_size=AUTOTUNE)"
   ]
  },
  {
   "cell_type": "markdown",
   "id": "b44eaf23",
   "metadata": {},
   "source": [
    "### Step 2 (optional): Data augmentation"
   ]
  },
  {
   "cell_type": "markdown",
   "id": "03c4a621",
   "metadata": {},
   "source": [
    "We might apply random transformations to the training images, such as rotation and horizontal flipping, to increase the dataset size and to reduce the overfitting."
   ]
  },
  {
   "cell_type": "code",
   "execution_count": null,
   "id": "cdcffe60",
   "metadata": {},
   "outputs": [],
   "source": [
    "data_augmentation = tf.keras.Sequential([\n",
    "  tf.keras.layers.RandomFlip('horizontal'),\n",
    "  tf.keras.layers.RandomRotation(0.2),\n",
    "])"
   ]
  },
  {
   "cell_type": "markdown",
   "id": "4a9722fe",
   "metadata": {},
   "source": [
    "As example, plotting 9 transformations on the same input image"
   ]
  },
  {
   "cell_type": "code",
   "execution_count": null,
   "id": "fb39a858",
   "metadata": {},
   "outputs": [],
   "source": [
    "for image, _ in train_dataset.take(1):\n",
    "    plt.figure(figsize=(10, 10))\n",
    "    first_image = image[0]\n",
    "    for i in range(9):\n",
    "        ax = plt.subplot(3, 3, i + 1)\n",
    "        augmented_image = data_augmentation(tf.expand_dims(first_image, 0))\n",
    "        plt.imshow(augmented_image[0] / 255)\n",
    "        plt.axis('off')"
   ]
  },
  {
   "cell_type": "markdown",
   "id": "5f5ddcca",
   "metadata": {},
   "source": [
    "### Step 3: Defining the model (1)"
   ]
  },
  {
   "cell_type": "markdown",
   "id": "fe8543b5",
   "metadata": {},
   "source": [
    "In the first part, we freeze all layers of the base_model (MobileNetV3) setting the `trainable` parameter to `False`, and we add a Dense layer with as many neurons as the number of classes. Since we want the probability for an image to belong to a certain cell in the Switzerland grid, we need the Softmax as activation function.\n",
    "\n",
    "Moreover, since we will fine-tune MobileNetV3 later, it is important to set `training` to `False` because that forces to use Batch Normalization layers as inference layers even when they are unfrozen. Otherwise, the updates applied to the non-trainable weights will destroy what the model has learned."
   ]
  },
  {
   "cell_type": "code",
   "execution_count": null,
   "id": "1ed2bff0",
   "metadata": {},
   "outputs": [],
   "source": [
    "IMG_SHAPE = IMG_SIZE + (3,)\n",
    "inputs = Input(shape=IMG_SHAPE)\n",
    "\n",
    "base_model = MobileNetV3Large(\n",
    "    include_top=False,\n",
    "    weights='imagenet',\n",
    "    input_tensor=inputs\n",
    ")\n",
    "base_model.trainable = False\n",
    "\n",
    "global_average_layer = tf.keras.layers.GlobalAveragePooling2D()\n",
    "prediction_layer = tf.keras.layers.Dense(NUM_CLASSES, activation='softmax')\n",
    "\n",
    "x = data_augmentation(inputs)\n",
    "x = preprocess_input(x)\n",
    "x = base_model(x, training=False)\n",
    "x = global_average_layer(x)\n",
    "x = tf.keras.layers.Dropout(0.2)(x)\n",
    "outputs = prediction_layer(x)\n",
    "\n",
    "model = tf.keras.Model(inputs, outputs)"
   ]
  },
  {
   "cell_type": "code",
   "execution_count": null,
   "id": "3e5905e7",
   "metadata": {},
   "outputs": [],
   "source": [
    "print(\"Number of layers in the base model: \", len(base_model.layers))"
   ]
  },
  {
   "cell_type": "markdown",
   "id": "3287fdab",
   "metadata": {},
   "source": [
    "Specifying the optimizer, the learning rate and the loss function to compile the model."
   ]
  },
  {
   "cell_type": "code",
   "execution_count": null,
   "id": "10db358b",
   "metadata": {},
   "outputs": [],
   "source": [
    "LEARNING_RATE=0.045\n",
    "\n",
    "model.compile(optimizer=Adagrad(learning_rate=LEARNING_RATE), loss='categorical_crossentropy', metrics=['accuracy'])\n",
    "model.summary()"
   ]
  },
  {
   "cell_type": "code",
   "execution_count": null,
   "id": "31e462cb",
   "metadata": {},
   "outputs": [],
   "source": [
    "history = model.fit(train_dataset, epochs=10, validation_data=validation_dataset)"
   ]
  },
  {
   "cell_type": "markdown",
   "id": "849afd1e",
   "metadata": {},
   "source": [
    "Plotting the learning curves"
   ]
  },
  {
   "cell_type": "code",
   "execution_count": null,
   "id": "3ff73241",
   "metadata": {},
   "outputs": [],
   "source": [
    "acc = history.history['accuracy']\n",
    "val_acc = history.history['val_accuracy']\n",
    "\n",
    "loss = history.history['loss']\n",
    "val_loss = history.history['val_loss']\n",
    "\n",
    "plt.figure(figsize=(8, 8))\n",
    "plt.subplot(2, 1, 1)\n",
    "plt.plot(acc, label='Training Accuracy')\n",
    "plt.plot(val_acc, label='Validation Accuracy')\n",
    "plt.legend(loc='lower right')\n",
    "plt.ylabel('Accuracy')\n",
    "plt.ylim([min(plt.ylim()),1])\n",
    "plt.title('Training and Validation Accuracy')\n",
    "\n",
    "plt.subplot(2, 1, 2)\n",
    "plt.plot(loss, label='Training Loss')\n",
    "plt.plot(val_loss, label='Validation Loss')\n",
    "plt.legend(loc='upper right')\n",
    "plt.ylabel('Cross Entropy')\n",
    "plt.ylim([0,1.0])\n",
    "plt.title('Training and Validation Loss')\n",
    "plt.xlabel('epoch')\n",
    "plt.show()"
   ]
  },
  {
   "cell_type": "markdown",
   "id": "39602511",
   "metadata": {},
   "source": [
    "### Step 4: Defining the model (2)"
   ]
  },
  {
   "cell_type": "markdown",
   "id": "168f557b",
   "metadata": {},
   "source": [
    "In this step we want to fine-tune the MobileNetV3 making all layers trainable, but keeping a learning rate that is 10 times smaller than the previous one."
   ]
  },
  {
   "cell_type": "code",
   "execution_count": null,
   "id": "f63eaf95",
   "metadata": {},
   "outputs": [],
   "source": [
    "base_model.trainable = True\n",
    "\n",
    "model.compile(optimizer=Adagrad(learning_rate=LEARNING_RATE/10), loss='categorical_crossentropy', metrics=['accuracy'])\n",
    "model.summary()"
   ]
  },
  {
   "cell_type": "code",
   "execution_count": null,
   "id": "1de3e757",
   "metadata": {},
   "outputs": [],
   "source": [
    "fine_tune_epochs = 10\n",
    "total_epochs =  initial_epochs + fine_tune_epochs\n",
    "\n",
    "history_fine = model.fit(train_dataset,\n",
    "                         epochs=total_epochs,\n",
    "                         initial_epoch=history.epoch[-1],\n",
    "                         validation_data=validation_dataset)"
   ]
  },
  {
   "cell_type": "markdown",
   "id": "596b742c",
   "metadata": {},
   "source": [
    "Plotting the learning curves"
   ]
  },
  {
   "cell_type": "code",
   "execution_count": null,
   "id": "0c735eee",
   "metadata": {},
   "outputs": [],
   "source": [
    "acc += history_fine.history['accuracy']\n",
    "val_acc += history_fine.history['val_accuracy']\n",
    "\n",
    "loss += history_fine.history['loss']\n",
    "val_loss += history_fine.history['val_loss']\n",
    "\n",
    "plt.figure(figsize=(8, 8))\n",
    "plt.subplot(2, 1, 1)\n",
    "plt.plot(acc, label='Training Accuracy')\n",
    "plt.plot(val_acc, label='Validation Accuracy')\n",
    "plt.ylim([0.8, 1])\n",
    "plt.plot([initial_epochs-1,initial_epochs-1],\n",
    "          plt.ylim(), label='Start Fine Tuning')\n",
    "plt.legend(loc='lower right')\n",
    "plt.title('Training and Validation Accuracy')\n",
    "\n",
    "plt.subplot(2, 1, 2)\n",
    "plt.plot(loss, label='Training Loss')\n",
    "plt.plot(val_loss, label='Validation Loss')\n",
    "plt.ylim([0, 1.0])\n",
    "plt.plot([initial_epochs-1,initial_epochs-1],\n",
    "         plt.ylim(), label='Start Fine Tuning')\n",
    "plt.legend(loc='upper right')\n",
    "plt.title('Training and Validation Loss')\n",
    "plt.xlabel('epoch')\n",
    "plt.show()\n"
   ]
  },
  {
   "cell_type": "markdown",
   "id": "f12a0ef9",
   "metadata": {},
   "source": [
    "### Step 5: Evaluating the model"
   ]
  },
  {
   "cell_type": "code",
   "execution_count": null,
   "id": "44e74236",
   "metadata": {},
   "outputs": [],
   "source": [
    "loss, accuracy = model.evaluate(test_dataset)\n",
    "print('Test accuracy :', accuracy)"
   ]
  }
 ],
 "metadata": {
  "kernelspec": {
   "display_name": "Python [conda env:tf] *",
   "language": "python",
   "name": "conda-env-tf-py"
  },
  "language_info": {
   "codemirror_mode": {
    "name": "ipython",
    "version": 3
   },
   "file_extension": ".py",
   "mimetype": "text/x-python",
   "name": "python",
   "nbconvert_exporter": "python",
   "pygments_lexer": "ipython3",
   "version": "3.8.13"
  }
 },
 "nbformat": 4,
 "nbformat_minor": 5
}
