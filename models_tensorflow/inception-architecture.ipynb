{
 "cells": [
  {
   "cell_type": "code",
   "execution_count": null,
   "id": "677f3394",
   "metadata": {},
   "outputs": [],
   "source": [
    "import numpy as np\n",
    "import pandas as pd\n",
    "import tensorflow as tf\n",
    "import shutil\n",
    "import os\n",
    "\n",
    "from tensorflow.keras.utils import image_dataset_from_directory\n",
    "from keras.applications.mobilenet_v3 import preprocess_input\n",
    "from keras.applications.mobilenet_v3 import MobileNetV3Large\n",
    "from tensorflow.keras.preprocessing import image\n",
    "\n",
    "from tensorflow.keras.layers import Input\n",
    "from tensorflow.keras.optimizers import Adagrad\n",
    "\n",
    "import matplotlib.pyplot as plt"
   ]
  },
  {
   "cell_type": "markdown",
   "id": "673edf36",
   "metadata": {},
   "source": [
    "### Step 0: Creating the correct directory structure\n",
    "\n",
    "In this step we need to create as many subfolders as the number of classes, and copy images from ./dataset/no_label folder to ./dataset/images/{class} for each class. \n",
    "For instance, for 2 classes we should have:\n",
    "\n",
    "- ./dataset/images/**0**/img{i}.jpg (for each i belonging to class 0)\n",
    "- ./dataset/images/**1**/img{i}.jpg (for each i belonging to class 1)"
   ]
  },
  {
   "cell_type": "code",
   "execution_count": null,
   "id": "2de27a03",
   "metadata": {},
   "outputs": [],
   "source": [
    "def create_directories():\n",
    "    # Loading the dataframe containing a map between the imageId and the corresponding label\n",
    "    data = pd.read_csv('./dataset/geotags_185K_label.csv').values.tolist()\n",
    "    \n",
    "    # Creating the correct directory structure\n",
    "    for im in data:\n",
    "        olddir = f'./dataset/no_label/{im[0]}.jpg'\n",
    "        newdir = f'./dataset/images/{im[1]}/{im[0]}.jpg'\n",
    "        \n",
    "        # Creating directory if it does not exist\n",
    "        os.makedirs(os.path.dirname(newdir), exist_ok=True)\n",
    "        # Copying the image\n",
    "        shutil.copyfile(olddir, newdir)"
   ]
  },
  {
   "cell_type": "markdown",
   "id": "7db89795",
   "metadata": {},
   "source": [
    "### Step 1: Loading all images with labels"
   ]
  },
  {
   "cell_type": "markdown",
   "id": "77c48867",
   "metadata": {},
   "source": [
    "In this step we need to load images specifying the size, the number of batches and the preprocess steps."
   ]
  },
  {
   "cell_type": "code",
   "execution_count": null,
   "id": "7e613c9d",
   "metadata": {},
   "outputs": [],
   "source": [
    "BATCH_SIZE = 32\n",
    "IMG_SIZE = (224, 224)"
   ]
  },
  {
   "cell_type": "markdown",
   "id": "ad4a6a9d",
   "metadata": {},
   "source": [
    "We are using `MobileNetV3Large` model which already contains a preprocess layer, and thus the `preprocess_input` is just a pass-through function. \n",
    "For completeness, and in case we need to change the model we use it, although it can be skipped."
   ]
  },
  {
   "cell_type": "code",
   "execution_count": null,
   "id": "c27b5629",
   "metadata": {},
   "outputs": [],
   "source": [
    "def preprocess(images, labels):\n",
    "    return preprocess_input(images), labels"
   ]
  },
  {
   "cell_type": "markdown",
   "id": "818ee8da",
   "metadata": {},
   "source": [
    "Loading the dataset, and assigning label depending on the directory structure. Also we split the dataset in train and validation, using 20% of images for the validation. "
   ]
  },
  {
   "cell_type": "code",
   "execution_count": null,
   "id": "90b8a49c",
   "metadata": {},
   "outputs": [],
   "source": [
    "train_dataset, validation_dataset = image_dataset_from_directory(\n",
    "    './dataset/images',\n",
    "    label_mode='categorical',\n",
    "    batch_size=BATCH_SIZE,\n",
    "    image_size=IMG_SIZE,\n",
    "    # interpolation='nearest',\n",
    "    seed=123,\n",
    "    validation_split=0.2,\n",
    "    subset='both')"
   ]
  },
  {
   "cell_type": "code",
   "execution_count": null,
   "id": "a862a8de",
   "metadata": {},
   "outputs": [],
   "source": [
    "class_names = train_dataset.class_names\n",
    "\n",
    "# Number of classes\n",
    "NUM_CLASSES = len(class_names)"
   ]
  },
  {
   "cell_type": "markdown",
   "id": "685afc8f",
   "metadata": {},
   "source": [
    "Plotting 9 images to have a clue of what the dataset contains"
   ]
  },
  {
   "cell_type": "code",
   "execution_count": null,
   "id": "bcb7d78d",
   "metadata": {},
   "outputs": [],
   "source": [
    "plt.figure(figsize=(10, 10))\n",
    "for images, labels in train_dataset.take(1):\n",
    "    for i in range(9):\n",
    "        ax = plt.subplot(3, 3, i + 1)\n",
    "        plt.imshow(images[i].numpy().astype(\"uint8\"))\n",
    "        plt.title(np.argmax(labels[i]))\n",
    "        plt.axis(\"off\")"
   ]
  },
  {
   "cell_type": "markdown",
   "id": "3c8777fb",
   "metadata": {},
   "source": [
    "We do not have a test dataset, so we need to create one. To do so, we determine how many batches of data are available in the validation set, then move 20% of them to a test set."
   ]
  },
  {
   "cell_type": "code",
   "execution_count": null,
   "id": "6a4af348",
   "metadata": {},
   "outputs": [],
   "source": [
    "val_batches = tf.data.experimental.cardinality(validation_dataset)\n",
    "\n",
    "test_dataset = validation_dataset.take(val_batches // 5)\n",
    "validation_dataset = validation_dataset.skip(val_batches // 5)"
   ]
  },
  {
   "cell_type": "code",
   "execution_count": null,
   "id": "daebfe83",
   "metadata": {},
   "outputs": [],
   "source": [
    "print('Number of validation batches: %d' % tf.data.experimental.cardinality(validation_dataset))\n",
    "print('Number of test batches: %d' % tf.data.experimental.cardinality(test_dataset))"
   ]
  },
  {
   "cell_type": "markdown",
   "id": "25de84d7",
   "metadata": {},
   "source": [
    "Also, we use buffered prefetching to load images from disk without having I/O become blocking."
   ]
  },
  {
   "cell_type": "code",
   "execution_count": null,
   "id": "f2b451b5",
   "metadata": {},
   "outputs": [],
   "source": [
    "AUTOTUNE = tf.data.AUTOTUNE\n",
    "\n",
    "train_dataset = train_dataset.prefetch(buffer_size=AUTOTUNE)\n",
    "validation_dataset = validation_dataset.prefetch(buffer_size=AUTOTUNE)\n",
    "test_dataset = test_dataset.prefetch(buffer_size=AUTOTUNE)"
   ]
  },
  {
   "cell_type": "markdown",
   "id": "f6a36d25",
   "metadata": {},
   "source": [
    "### Step 2 (optional): Data augmentation"
   ]
  },
  {
   "cell_type": "markdown",
   "id": "7f1c5be6",
   "metadata": {},
   "source": [
    "We might apply random transformations to the training images, such as rotation and horizontal flipping, to increase the dataset size and to reduce the overfitting."
   ]
  },
  {
   "cell_type": "code",
   "execution_count": null,
   "id": "9a20927d",
   "metadata": {},
   "outputs": [],
   "source": [
    "data_augmentation = tf.keras.Sequential([\n",
    "  tf.keras.layers.RandomFlip('horizontal'),\n",
    "  tf.keras.layers.RandomRotation(0.2),\n",
    "])"
   ]
  },
  {
   "cell_type": "markdown",
   "id": "c412845b",
   "metadata": {},
   "source": [
    "As example, plotting 9 transformations on the same input image"
   ]
  },
  {
   "cell_type": "code",
   "execution_count": null,
   "id": "b28aa62a",
   "metadata": {},
   "outputs": [],
   "source": [
    "for image, _ in train_dataset.take(1):\n",
    "    plt.figure(figsize=(10, 10))\n",
    "    first_image = image[0]\n",
    "    for i in range(9):\n",
    "        ax = plt.subplot(3, 3, i + 1)\n",
    "        augmented_image = data_augmentation(tf.expand_dims(first_image, 0))\n",
    "        plt.imshow(augmented_image[0] / 255)\n",
    "        plt.axis('off')"
   ]
  },
  {
   "cell_type": "markdown",
   "id": "152a7240",
   "metadata": {},
   "source": [
    "### Step 3: Defining the model (1)"
   ]
  },
  {
   "cell_type": "markdown",
   "id": "f4b3bb23",
   "metadata": {},
   "source": [
    "In the first part, we freeze all layers of the base_model (MobileNetV3) setting the `trainable` parameter to `False`, and we add a Dense layer with as many neurons as the number of classes. Since we want the probability for an image to belong to a certain cell in the Switzerland grid, we need the Softmax as activation function.\n",
    "\n",
    "Moreover, since we will fine-tune MobileNetV3 later, it is important to set `training` to `False` because that forces to use Batch Normalization layers as inference layers even when they are unfrozen. Otherwise, the updates applied to the non-trainable weights will destroy what the model has learned."
   ]
  },
  {
   "cell_type": "code",
   "execution_count": null,
   "id": "4c8f14a3",
   "metadata": {},
   "outputs": [],
   "source": [
    "IMG_SHAPE = IMG_SIZE + (3,)\n",
    "inputs = Input(shape=IMG_SHAPE)\n",
    "\n",
    "base_model = MobileNetV3Large(\n",
    "    include_top=False,\n",
    "    weights='imagenet',\n",
    "    input_tensor=inputs\n",
    ")\n",
    "base_model.trainable = False\n",
    "\n",
    "global_average_layer = tf.keras.layers.GlobalAveragePooling2D()\n",
    "prediction_layer = tf.keras.layers.Dense(NUM_CLASSES, activation='softmax')\n",
    "\n",
    "x = data_augmentation(inputs)\n",
    "x = preprocess_input(x)\n",
    "x = base_model(x, training=False)\n",
    "x = global_average_layer(x)\n",
    "x = tf.keras.layers.Dropout(0.2)(x)\n",
    "outputs = prediction_layer(x)\n",
    "\n",
    "model = tf.keras.Model(inputs, outputs)"
   ]
  },
  {
   "cell_type": "code",
   "execution_count": null,
   "id": "0588ac63",
   "metadata": {},
   "outputs": [],
   "source": [
    "print(\"Number of layers in the base model: \", len(base_model.layers))"
   ]
  },
  {
   "cell_type": "markdown",
   "id": "c1ddd5a0",
   "metadata": {},
   "source": [
    "Specifying the optimizer, the learning rate and the loss function to compile the model."
   ]
  },
  {
   "cell_type": "code",
   "execution_count": null,
   "id": "640661bd",
   "metadata": {},
   "outputs": [],
   "source": [
    "LEARNING_RATE=0.045\n",
    "\n",
    "model.compile(optimizer=Adagrad(learning_rate=LEARNING_RATE), loss='categorical_crossentropy')\n",
    "model.summary()"
   ]
  },
  {
   "cell_type": "code",
   "execution_count": null,
   "id": "b27a1010",
   "metadata": {},
   "outputs": [],
   "source": [
    "history = model.fit(train_dataset, epochs=10, validation_data=validation_dataset)"
   ]
  },
  {
   "cell_type": "markdown",
   "id": "cbb20bc7",
   "metadata": {},
   "source": [
    "Plotting the learning curves"
   ]
  },
  {
   "cell_type": "code",
   "execution_count": null,
   "id": "39cfa120",
   "metadata": {},
   "outputs": [],
   "source": [
    "acc = history.history['accuracy']\n",
    "val_acc = history.history['val_accuracy']\n",
    "\n",
    "loss = history.history['loss']\n",
    "val_loss = history.history['val_loss']\n",
    "\n",
    "plt.figure(figsize=(8, 8))\n",
    "plt.subplot(2, 1, 1)\n",
    "plt.plot(acc, label='Training Accuracy')\n",
    "plt.plot(val_acc, label='Validation Accuracy')\n",
    "plt.legend(loc='lower right')\n",
    "plt.ylabel('Accuracy')\n",
    "plt.ylim([min(plt.ylim()),1])\n",
    "plt.title('Training and Validation Accuracy')\n",
    "\n",
    "plt.subplot(2, 1, 2)\n",
    "plt.plot(loss, label='Training Loss')\n",
    "plt.plot(val_loss, label='Validation Loss')\n",
    "plt.legend(loc='upper right')\n",
    "plt.ylabel('Cross Entropy')\n",
    "plt.ylim([0,1.0])\n",
    "plt.title('Training and Validation Loss')\n",
    "plt.xlabel('epoch')\n",
    "plt.show()"
   ]
  },
  {
   "cell_type": "markdown",
   "id": "59e85451",
   "metadata": {},
   "source": [
    "### Step 4: Defining the model (2)"
   ]
  },
  {
   "cell_type": "markdown",
   "id": "ce518a44",
   "metadata": {},
   "source": [
    "In this step we want to fine-tune the MobileNetV3 making all layers trainable, but keeping a learning rate that is 10 times smaller than the previous one."
   ]
  },
  {
   "cell_type": "code",
   "execution_count": null,
   "id": "646a63cb",
   "metadata": {},
   "outputs": [],
   "source": [
    "base_model.trainable = True\n",
    "\n",
    "model.compile(optimizer=Adagrad(learning_rate=LEARNING_RATE/10), loss='categorical_crossentropy')\n",
    "model.summary()"
   ]
  },
  {
   "cell_type": "code",
   "execution_count": null,
   "id": "b3ed8426",
   "metadata": {},
   "outputs": [],
   "source": [
    "fine_tune_epochs = 10\n",
    "total_epochs =  initial_epochs + fine_tune_epochs\n",
    "\n",
    "history_fine = model.fit(train_dataset,\n",
    "                         epochs=total_epochs,\n",
    "                         initial_epoch=history.epoch[-1],\n",
    "                         validation_data=validation_dataset)"
   ]
  },
  {
   "cell_type": "markdown",
   "id": "82f3e36d",
   "metadata": {},
   "source": [
    "Plotting the learning curves"
   ]
  },
  {
   "cell_type": "code",
   "execution_count": null,
   "id": "3c45a7e7",
   "metadata": {},
   "outputs": [],
   "source": [
    "acc += history_fine.history['accuracy']\n",
    "val_acc += history_fine.history['val_accuracy']\n",
    "\n",
    "loss += history_fine.history['loss']\n",
    "val_loss += history_fine.history['val_loss']\n",
    "\n",
    "plt.figure(figsize=(8, 8))\n",
    "plt.subplot(2, 1, 1)\n",
    "plt.plot(acc, label='Training Accuracy')\n",
    "plt.plot(val_acc, label='Validation Accuracy')\n",
    "plt.ylim([0.8, 1])\n",
    "plt.plot([initial_epochs-1,initial_epochs-1],\n",
    "          plt.ylim(), label='Start Fine Tuning')\n",
    "plt.legend(loc='lower right')\n",
    "plt.title('Training and Validation Accuracy')\n",
    "\n",
    "plt.subplot(2, 1, 2)\n",
    "plt.plot(loss, label='Training Loss')\n",
    "plt.plot(val_loss, label='Validation Loss')\n",
    "plt.ylim([0, 1.0])\n",
    "plt.plot([initial_epochs-1,initial_epochs-1],\n",
    "         plt.ylim(), label='Start Fine Tuning')\n",
    "plt.legend(loc='upper right')\n",
    "plt.title('Training and Validation Loss')\n",
    "plt.xlabel('epoch')\n",
    "plt.show()\n"
   ]
  },
  {
   "cell_type": "markdown",
   "id": "aa0d6c4f",
   "metadata": {},
   "source": [
    "### Step 5: Evaluating the model"
   ]
  },
  {
   "cell_type": "code",
   "execution_count": null,
   "id": "95c2cd61",
   "metadata": {},
   "outputs": [],
   "source": [
    "loss, accuracy = model.evaluate(test_dataset)\n",
    "print('Test accuracy :', accuracy)"
   ]
  }
 ],
 "metadata": {
  "kernelspec": {
   "display_name": "Python [conda env:tf] *",
   "language": "python",
   "name": "conda-env-tf-py"
  },
  "language_info": {
   "codemirror_mode": {
    "name": "ipython",
    "version": 3
   },
   "file_extension": ".py",
   "mimetype": "text/x-python",
   "name": "python",
   "nbconvert_exporter": "python",
   "pygments_lexer": "ipython3",
   "version": "3.8.13"
  }
 },
 "nbformat": 4,
 "nbformat_minor": 5
}
