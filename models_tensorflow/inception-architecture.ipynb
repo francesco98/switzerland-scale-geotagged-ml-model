{
 "cells": [
  {
   "cell_type": "code",
   "execution_count": 11,
   "id": "33891512",
   "metadata": {},
   "outputs": [],
   "source": [
    "import numpy as np\n",
    "import pandas as pd\n",
    "\n",
    "from tensorflow.keras.applications.inception_v3 import InceptionV3\n",
    "from tensorflow.keras.preprocessing import image\n",
    "from keras.applications.inception_v3 import preprocess_input\n",
    "from tensorflow.keras.layers import Input\n",
    "from tensorflow.keras.optimizers import Adagrad"
   ]
  },
  {
   "cell_type": "code",
   "execution_count": 12,
   "id": "f08241eb",
   "metadata": {},
   "outputs": [],
   "source": [
    "def processing(im):\n",
    "    img = image.load_img(im, target_size=(224, 224))\n",
    "    img = image.img_to_array(img)\n",
    "    img = np.expand_dims(img, axis=0)\n",
    "    img = preprocess_input(img)\n",
    "    \n",
    "    return img"
   ]
  },
  {
   "cell_type": "code",
   "execution_count": 13,
   "id": "7a4081f3",
   "metadata": {},
   "outputs": [
    {
     "data": {
      "text/html": [
       "<div>\n",
       "<style scoped>\n",
       "    .dataframe tbody tr th:only-of-type {\n",
       "        vertical-align: middle;\n",
       "    }\n",
       "\n",
       "    .dataframe tbody tr th {\n",
       "        vertical-align: top;\n",
       "    }\n",
       "\n",
       "    .dataframe thead th {\n",
       "        text-align: right;\n",
       "    }\n",
       "</style>\n",
       "<table border=\"1\" class=\"dataframe\">\n",
       "  <thead>\n",
       "    <tr style=\"text-align: right;\">\n",
       "      <th></th>\n",
       "      <th># ID</th>\n",
       "      <th>Label</th>\n",
       "    </tr>\n",
       "  </thead>\n",
       "  <tbody>\n",
       "    <tr>\n",
       "      <th>0</th>\n",
       "      <td>2824840348_3c684b1d2c</td>\n",
       "      <td>8</td>\n",
       "    </tr>\n",
       "    <tr>\n",
       "      <th>1</th>\n",
       "      <td>2823831289_4cc28d4e29</td>\n",
       "      <td>201</td>\n",
       "    </tr>\n",
       "    <tr>\n",
       "      <th>2</th>\n",
       "      <td>2817908296_868fb3c095</td>\n",
       "      <td>18</td>\n",
       "    </tr>\n",
       "    <tr>\n",
       "      <th>3</th>\n",
       "      <td>2700164839_e8f8d500e3</td>\n",
       "      <td>87</td>\n",
       "    </tr>\n",
       "    <tr>\n",
       "      <th>4</th>\n",
       "      <td>3844995191_582b542412</td>\n",
       "      <td>323</td>\n",
       "    </tr>\n",
       "    <tr>\n",
       "      <th>...</th>\n",
       "      <td>...</td>\n",
       "      <td>...</td>\n",
       "    </tr>\n",
       "    <tr>\n",
       "      <th>178628</th>\n",
       "      <td>2929233968_050577f8b9</td>\n",
       "      <td>102</td>\n",
       "    </tr>\n",
       "    <tr>\n",
       "      <th>178629</th>\n",
       "      <td>2928214771_ca8d90a5a5</td>\n",
       "      <td>102</td>\n",
       "    </tr>\n",
       "    <tr>\n",
       "      <th>178630</th>\n",
       "      <td>2869642665_da54293c13</td>\n",
       "      <td>201</td>\n",
       "    </tr>\n",
       "    <tr>\n",
       "      <th>178631</th>\n",
       "      <td>2867838318_144d299d0b</td>\n",
       "      <td>201</td>\n",
       "    </tr>\n",
       "    <tr>\n",
       "      <th>178632</th>\n",
       "      <td>2862946592_16e7c593d9</td>\n",
       "      <td>69</td>\n",
       "    </tr>\n",
       "  </tbody>\n",
       "</table>\n",
       "<p>178633 rows × 2 columns</p>\n",
       "</div>"
      ],
      "text/plain": [
       "                         # ID  Label\n",
       "0       2824840348_3c684b1d2c      8\n",
       "1       2823831289_4cc28d4e29    201\n",
       "2       2817908296_868fb3c095     18\n",
       "3       2700164839_e8f8d500e3     87\n",
       "4       3844995191_582b542412    323\n",
       "...                       ...    ...\n",
       "178628  2929233968_050577f8b9    102\n",
       "178629  2928214771_ca8d90a5a5    102\n",
       "178630  2869642665_da54293c13    201\n",
       "178631  2867838318_144d299d0b    201\n",
       "178632  2862946592_16e7c593d9     69\n",
       "\n",
       "[178633 rows x 2 columns]"
      ]
     },
     "execution_count": 13,
     "metadata": {},
     "output_type": "execute_result"
    }
   ],
   "source": [
    "df = pd.read_csv('./dataset/geotags_185K_label.csv')\n",
    "input_files = [f\"./dataset/images/{imageId}.jpg\" for imageId in df['# ID'].values.tolist()]\n",
    "df"
   ]
  },
  {
   "cell_type": "code",
   "execution_count": null,
   "id": "a68137d9",
   "metadata": {},
   "outputs": [],
   "source": [
    "images = np.concatenate([processing(im) for im in input_files])\n",
    "images.shape"
   ]
  },
  {
   "cell_type": "code",
   "execution_count": 24,
   "id": "4ab07412",
   "metadata": {},
   "outputs": [],
   "source": [
    "input_tensor = Input(shape=(224, 224, 3))\n",
    "\n",
    "model = InceptionV3(\n",
    "    include_top=True,\n",
    "    weights=None,\n",
    "    input_tensor=input_tensor,\n",
    "    classes=1000,\n",
    "    classifier_activation=\"softmax\",\n",
    ")\n",
    "\n",
    "model.compile(optimizer=Adagrad(learning_rate=0.045), loss='categorical_crossentropy')"
   ]
  },
  {
   "cell_type": "code",
   "execution_count": null,
   "id": "36248e99",
   "metadata": {},
   "outputs": [],
   "source": []
  },
  {
   "cell_type": "code",
   "execution_count": null,
   "id": "9a1dd3e7",
   "metadata": {},
   "outputs": [],
   "source": []
  }
 ],
 "metadata": {
  "kernelspec": {
   "display_name": "Python [conda env:tf] *",
   "language": "python",
   "name": "conda-env-tf-py"
  },
  "language_info": {
   "codemirror_mode": {
    "name": "ipython",
    "version": 3
   },
   "file_extension": ".py",
   "mimetype": "text/x-python",
   "name": "python",
   "nbconvert_exporter": "python",
   "pygments_lexer": "ipython3",
   "version": "3.8.13"
  }
 },
 "nbformat": 4,
 "nbformat_minor": 5
}
